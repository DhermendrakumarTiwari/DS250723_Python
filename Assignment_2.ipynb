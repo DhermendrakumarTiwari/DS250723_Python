{
 "cells": [
  {
   "cell_type": "code",
   "execution_count": 4,
   "metadata": {},
   "outputs": [
    {
     "name": "stdout",
     "output_type": "stream",
     "text": [
      "[20, 25]\n"
     ]
    }
   ],
   "source": [
    "# 1. Delete the elements in an linked list whose sum is equal to zero\n",
    "\n",
    "class Node():\n",
    "   def __init__(self,data):\n",
    "    self.data = data\n",
    "    self.next = None\n",
    "\n",
    "class Linkedlist():\n",
    "   def __init__(self):\n",
    "     self.head = None\n",
    "    \n",
    "   def append(self,data):\n",
    "     new_node = Node(data)\n",
    "     h = self.head\n",
    "     if self.head is None:\n",
    "         self.head = new_node\n",
    "         return\n",
    "     else:\n",
    "         while h.next!=None:\n",
    "             h = h.next\n",
    "         h.next = new_node\n",
    "\n",
    "   def remove_zeros_from_linkedlist(self, head):\n",
    "     stack = []\n",
    "     curr = head\n",
    "     list = []\n",
    "     while (curr):\n",
    "         if curr.data >= 0:\n",
    "             stack.append(curr)\n",
    "         else:\n",
    "             temp = curr\n",
    "             sum = temp.data\n",
    "             flag = False\n",
    "             while (len(stack) != 0):\n",
    "                 temp2 = stack.pop()\n",
    "                 sum += temp2.data\n",
    "                 if sum == 0:\n",
    "                     flag = True\n",
    "                     list = []\n",
    "                     break\n",
    "                 elif sum > 0:\n",
    "                     list.append(temp2)\n",
    "             if not flag:\n",
    "                 if len(list) > 0:\n",
    "                     for i in range(len(list)):\n",
    "                         stack.append(list.pop())\n",
    "                 stack.append(temp)\n",
    "         curr = curr.next\n",
    "     return [i.data for i in stack]\n",
    "\n",
    "if __name__ == \"__main__\":\n",
    " l = Linkedlist()\n",
    "\n",
    " l.append(4)\n",
    " l.append(6)\n",
    " l.append(-10)\n",
    " l.append(8)\n",
    " l.append(9)\n",
    " l.append(10)\n",
    " l.append(-19)\n",
    " l.append(10)\n",
    " l.append(-18)\n",
    " l.append(20)\n",
    " l.append(25)\n",
    " print(l.remove_zeros_from_linkedlist(l.head))"
   ]
  },
  {
   "cell_type": "code",
   "execution_count": 11,
   "metadata": {},
   "outputs": [
    {
     "name": "stdout",
     "output_type": "stream",
     "text": [
      "Given linked list\n",
      "1 2 3 4 5 6 7 8 9 \n",
      "Reversed Linked list\n",
      "9 8 7 6 5 4 3 2 1 "
     ]
    }
   ],
   "source": [
    "# 2. Reverse a linked list in groups of given size\n",
    "\n",
    "\n",
    "class Node:\n",
    "\tdef __init__(self, data):\n",
    "\t\tself.data = data\n",
    "\t\tself.next = None\n",
    "\n",
    "\n",
    "class LinkedList:\n",
    "\tdef __init__(self):\n",
    "\t\tself.head = None\n",
    "\n",
    "\tdef reverse(self, head, k):\n",
    "\t\t\n",
    "\t\tif head == None:\n",
    "    \t\t\treturn None\n",
    "\t\tcurrent = head\n",
    "\t\tnext = None\n",
    "\t\tprev = None\n",
    "\t\tcount = 0\n",
    "\n",
    "\t\twhile(current is not None and count < k):\n",
    "\t\t\tnext = current.next\n",
    "\t\t\tcurrent.next = prev\n",
    "\t\t\tprev = current\n",
    "\t\t\tcurrent = next\n",
    "\t\t\tcount += 1\n",
    "\n",
    "\t\tif next is not None:\n",
    "\t\t\thead.next = self.reverse(next, k)\n",
    "\n",
    "\t\treturn prev\n",
    "\n",
    "\tdef push(self, new_data):\n",
    "\t\tnew_node = Node(new_data)\n",
    "\t\tnew_node.next = self.head\n",
    "\t\tself.head = new_node\n",
    "\n",
    "\tdef printList(self):\n",
    "\t\ttemp = self.head\n",
    "\t\twhile(temp):\n",
    "\t\t\tprint(temp.data,end=' ')\n",
    "\t\t\ttemp = temp.next\n",
    "\n",
    "llist = LinkedList()\n",
    "llist.push(9)\n",
    "llist.push(8)\n",
    "llist.push(7)\n",
    "llist.push(6)\n",
    "llist.push(5)\n",
    "llist.push(4)\n",
    "llist.push(3)\n",
    "llist.push(2)\n",
    "llist.push(1)\n",
    "\n",
    "print(\"Given linked list\")\n",
    "llist.printList()\n",
    "llist.head = llist.reverse(llist.head,9)\n",
    "\n",
    "print (\"\\nReversed Linked list\")\n",
    "llist.printList()\n",
    "\n",
    "\n"
   ]
  },
  {
   "cell_type": "code",
   "execution_count": 14,
   "metadata": {},
   "outputs": [
    {
     "name": "stdout",
     "output_type": "stream",
     "text": [
      "First Linked List:\n",
      "8 7 17 18 \n",
      "Second Linked List:\n",
      "32 10 2 4 \n",
      "Modified first linked list:\n",
      "8 32 7 10 17 2 18 4 "
     ]
    }
   ],
   "source": [
    "# 3. Merge a linked list into another linked list at alternate positions.\n",
    "class Node(object):\n",
    "    def __init__(self, data:int):\n",
    "        self.data = data\n",
    "        self.next = None\n",
    "\n",
    "\n",
    "class LinkedList(object):\n",
    "    def __init__(self):\n",
    "        self.head = None\n",
    "        \n",
    "    def push(self, new_data:int):\n",
    "        new_node = Node(new_data)\n",
    "        new_node.next = self.head\n",
    "        self.head = new_node\n",
    "        \n",
    "    def printList(self):\n",
    "        temp = self.head\n",
    "        while temp != None:\n",
    "            print(temp.data,end=\" \")\n",
    "            temp = temp.next\n",
    "            \n",
    "    def merge(self, p, q):\n",
    "        p_curr = p.head\n",
    "        q_curr = q.head\n",
    "\n",
    "        while p_curr != None and q_curr != None:\n",
    "\n",
    "            p_next = p_curr.next\n",
    "            q_next = q_curr.next\n",
    "            q_curr.next = p_next \n",
    "            p_curr.next = q_curr \n",
    "            p_curr = p_next\n",
    "            q_curr = q_next\n",
    "            q.head = q_curr\n",
    "\n",
    "\n",
    "\n",
    "llist1 = LinkedList()\n",
    "llist2 = LinkedList()\n",
    "\n",
    "llist1.push(18)\n",
    "llist1.push(17)\n",
    "llist1.push(7)\n",
    "llist1.push(8)\n",
    "\n",
    "llist2.push(4)\n",
    "llist2.push(2)\n",
    "llist2.push(10)\n",
    "llist2.push(32)\n",
    "print(\"First Linked List:\")\n",
    "llist1.printList()\n",
    "\n",
    "print(\"\\nSecond Linked List:\")\n",
    "llist2.printList()\n",
    "\n",
    "llist1.merge(p=llist1, q=llist2)\n",
    "\n",
    "print(\"\\nModified first linked list:\")\n",
    "llist1.printList()\n",
    "\n"
   ]
  },
  {
   "cell_type": "code",
   "execution_count": 15,
   "metadata": {},
   "outputs": [
    {
     "name": "stdout",
     "output_type": "stream",
     "text": [
      "Array=  [5, 2, 3, 4, 1, 6, 7]\n",
      "Pairs whose sum is :  7\n",
      "5 2\n",
      "3 4\n",
      "1 6\n"
     ]
    }
   ],
   "source": [
    "# 4. In an array, Count Pairs with given sum\n",
    "\n",
    "def find(array, len, summ):\n",
    "    print(\"Pairs whose sum is : \", summ)\n",
    "    for i in range(len):\n",
    "        for j in range(i, len):\n",
    "            if (array[i] + array[j]) == summ:\n",
    "                print(array[i], array[j])\n",
    "\n",
    "\n",
    "array = [5, 2, 3, 4, 1, 6, 7]\n",
    "\n",
    "summ = 7\n",
    "print(\"Array= \", array)\n",
    "find(array, len(array), summ)"
   ]
  },
  {
   "cell_type": "code",
   "execution_count": 16,
   "metadata": {},
   "outputs": [
    {
     "name": "stdout",
     "output_type": "stream",
     "text": [
      "Duplicate elements in given array: \n",
      "2\n",
      "3\n",
      "8\n"
     ]
    }
   ],
   "source": [
    "# 5. Find duplicates in an array\n",
    "\n",
    "\n",
    "arr = [1, 2, 3, 4, 2, 7, 8, 8, 3];     \n",
    "     \n",
    "print(\"Duplicate elements in given array: \");    \n",
    "\n",
    "for i in range(0, len(arr)):    \n",
    "    for j in range(i+1, len(arr)):    \n",
    "        if(arr[i] == arr[j]):    \n",
    "            print(arr[j]);    "
   ]
  },
  {
   "cell_type": "code",
   "execution_count": 20,
   "metadata": {},
   "outputs": [
    {
     "name": "stdout",
     "output_type": "stream",
     "text": [
      "The 3rd largest number in the array is: 3\n",
      "The 2nd smallest number in the array is: 2\n"
     ]
    }
   ],
   "source": [
    "# 6.Find the Kth largest and Kth smallest number in an array.\n",
    "\n",
    "def find_kth_largest(array, k):\n",
    "  array.sort(reverse=True)\n",
    "  return array[k - 1]\n",
    "\n",
    "def find_kth_smallest(array, k):\n",
    "  array.sort()\n",
    "  return array[k - 1]\n",
    "\n",
    "array = [1, 2, 3, 4, 5]\n",
    "\n",
    "kth_largest = find_kth_largest(array, 3)\n",
    "kth_smallest = find_kth_smallest(array, 2)\n",
    "\n",
    "print(\"The 3rd largest number in the array is: {}\".format(kth_largest))\n",
    "print(\"The 2nd smallest number in the array is: {}\".format(kth_smallest))\n"
   ]
  },
  {
   "cell_type": "code",
   "execution_count": 22,
   "metadata": {},
   "outputs": [
    {
     "name": "stdout",
     "output_type": "stream",
     "text": [
      "[-2, -4, 1, 3, 5]\n"
     ]
    }
   ],
   "source": [
    "# 7. Move all the negative elements to one side of the array\n",
    "\n",
    "def move_negatives_to_one_side(array):\n",
    "    positive_elements = []\n",
    "    negative_elements = []\n",
    "    for element in array:\n",
    "        if element < 0:\n",
    "            negative_elements.append(element)\n",
    "        else:\n",
    "            positive_elements.append(element)\n",
    "\n",
    "    return negative_elements + positive_elements\n",
    "\n",
    "array = [1, -2, 3, -4, 5]\n",
    "negative_elements = move_negatives_to_one_side(array)\n",
    "\n",
    "print(negative_elements)"
   ]
  },
  {
   "cell_type": "code",
   "execution_count": 26,
   "metadata": {},
   "outputs": [
    {
     "name": "stdout",
     "output_type": "stream",
     "text": [
      "em esreveR\n"
     ]
    }
   ],
   "source": [
    "# 8. Reverse a string using a stack data structure\n",
    "\n",
    "from collections import deque\n",
    " \n",
    " \n",
    "\n",
    "def reverse(s):\n",
    "    stack = deque(s)\n",
    "    return ''.join(stack.pop() for _ in range(len(s)))\n",
    " \n",
    " \n",
    "if __name__ == '__main__':\n",
    " \n",
    "    s = 'Reverse me'\n",
    "    s = reverse(s)\n",
    "    print(s)"
   ]
  },
  {
   "cell_type": "code",
   "execution_count": 35,
   "metadata": {},
   "outputs": [
    {
     "name": "stdout",
     "output_type": "stream",
     "text": [
      "236*+ \t: 20.0\n",
      "23*6+ \t: 12.0\n",
      "23*42/+ : 8.0\n"
     ]
    }
   ],
   "source": [
    "# 9. Evaluate a postfix expression using stack\n",
    "\n",
    "\n",
    "def evaluate_postfix(postfix_expr):\n",
    "    stack = []\n",
    "    operators = set(['+', '-', '*', '/', '%', '^'])\n",
    "    \n",
    "    for elem in postfix_expr:\n",
    "        if elem not in operators:\n",
    "            stack.append(float(elem))\n",
    "        else:\n",
    "            b = stack.pop()\n",
    "            a = stack.pop()\n",
    "            if elem == '+':\n",
    "                stack.append(a + b)\n",
    "            elif elem == '-':\n",
    "                stack.append(a - b)\n",
    "            elif elem == '*':\n",
    "                stack.append(a * b)\n",
    "            elif elem == '/':\n",
    "                stack.append(a / b)\n",
    "            elif elem == '%':\n",
    "                stack.append(a % b)\n",
    "            elif elem == '^':\n",
    "                stack.append(a ** b)\n",
    "                \n",
    "    return stack.pop()\n",
    "postfix = '236*+'  #Infix: 2 + 3 * 6\n",
    "evaluate_postfix(postfix)\n",
    "print('{} \\t: {}'.format(postfix, evaluate_postfix(postfix)))\n",
    "postfix = '23*6+'  #Infix: 2 * 3 + 6\n",
    "evaluate_postfix(postfix)\n",
    "print('{} \\t: {}'.format(postfix, evaluate_postfix(postfix)))\n",
    "postfix = '23*42/+'  #Infix: 2 * 3 + 4 / 2\n",
    "evaluate_postfix(postfix)\n",
    "print('{} : {}'.format(postfix, evaluate_postfix(postfix)))"
   ]
  },
  {
   "cell_type": "code",
   "execution_count": 36,
   "metadata": {},
   "outputs": [
    {
     "name": "stdout",
     "output_type": "stream",
     "text": [
      "1\n",
      "2\n",
      "3\n"
     ]
    }
   ],
   "source": [
    "# 10. Implement a queue using the stack data structure\n",
    "\n",
    "\n",
    "class Queue:\n",
    "\tdef __init__(self):\n",
    "\t\tself.s1 = []\n",
    "\t\tself.s2 = []\n",
    "\n",
    "\tdef enQueue(self, x):\n",
    "\t\twhile len(self.s1) != 0:\n",
    "\t\t\tself.s2.append(self.s1[-1])\n",
    "\t\t\tself.s1.pop()\n",
    "\t\tself.s1.append(x)\n",
    "\n",
    "\t\twhile len(self.s2) != 0:\n",
    "\t\t\tself.s1.append(self.s2[-1])\n",
    "\t\t\tself.s2.pop()\n",
    "\n",
    "\tdef deQueue(self):\n",
    "\t\t\n",
    "\t\tif len(self.s1) == 0:\n",
    "\t\t\treturn -1;\n",
    "\t\n",
    "\t\tx = self.s1[-1]\n",
    "\t\tself.s1.pop()\n",
    "\t\treturn x\n",
    "\n",
    "\n",
    "if __name__ == '__main__':\n",
    "\tq = Queue()\n",
    "\tq.enQueue(1)\n",
    "\tq.enQueue(2)\n",
    "\tq.enQueue(3)\n",
    "\n",
    "\tprint(q.deQueue())\n",
    "\tprint(q.deQueue())\n",
    "\tprint(q.deQueue())\n",
    "\n"
   ]
  },
  {
   "cell_type": "code",
   "execution_count": null,
   "metadata": {},
   "outputs": [],
   "source": []
  }
 ],
 "metadata": {
  "kernelspec": {
   "display_name": "base",
   "language": "python",
   "name": "python3"
  },
  "language_info": {
   "codemirror_mode": {
    "name": "ipython",
    "version": 3
   },
   "file_extension": ".py",
   "mimetype": "text/x-python",
   "name": "python",
   "nbconvert_exporter": "python",
   "pygments_lexer": "ipython3",
   "version": "3.11.4"
  },
  "orig_nbformat": 4
 },
 "nbformat": 4,
 "nbformat_minor": 2
}
