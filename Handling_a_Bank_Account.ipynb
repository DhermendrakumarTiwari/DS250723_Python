{
  "nbformat": 4,
  "nbformat_minor": 0,
  "metadata": {
    "colab": {
      "provenance": []
    },
    "kernelspec": {
      "name": "python3",
      "display_name": "Python 3"
    },
    "language_info": {
      "name": "python"
    }
  },
  "cells": [
    {
      "cell_type": "code",
      "execution_count": 1,
      "metadata": {
        "id": "y2sV39D3VTc5"
      },
      "outputs": [],
      "source": [
        "class Account:\n",
        "    def __init__(self, title=None, balance=0):\n",
        "        self.title = title\n",
        "        self.balance = balance\n",
        "\n",
        "    def getBalance(self):\n",
        "        return self.balance"
      ]
    },
    {
      "cell_type": "code",
      "source": [
        "def deposit(self, amount):\n",
        "    self.balance += amount\n"
      ],
      "metadata": {
        "id": "dSNFSVoEVcFK"
      },
      "execution_count": 2,
      "outputs": []
    },
    {
      "cell_type": "code",
      "source": [
        "def withdraw(self, amount):\n",
        "    if self.balance < amount:\n",
        "        raise ValueError(\"Insufficient balance\")\n",
        "    self.balance -= amount"
      ],
      "metadata": {
        "id": "wk3bO0IsVjjT"
      },
      "execution_count": 3,
      "outputs": []
    },
    {
      "cell_type": "code",
      "source": [
        "def interestAmount(self, interestRate):\n",
        "    return self.balance * interestRate"
      ],
      "metadata": {
        "id": "yiu0fCO8VnVc"
      },
      "execution_count": 4,
      "outputs": []
    },
    {
      "cell_type": "code",
      "source": [
        "# Create an account\n",
        "account = Account()\n",
        "\n",
        "# Deposit money\n",
        "account.deposit(100)\n",
        "\n",
        "# Withdraw money\n",
        "account.withdraw(50)\n",
        "\n",
        "# Get the balance\n",
        "balance = account.getBalance()\n",
        "\n",
        "# Create a savings account\n",
        "savingsAccount = SavingsAccount()\n",
        "\n",
        "# Deposit money\n",
        "savingsAccount.deposit(100)\n",
        "\n",
        "# Get the interest amount\n",
        "interestAmount = savingsAccount.interestAmount(5)"
      ],
      "metadata": {
        "id": "K90nv9wBVzHp"
      },
      "execution_count": null,
      "outputs": []
    }
  ]
}