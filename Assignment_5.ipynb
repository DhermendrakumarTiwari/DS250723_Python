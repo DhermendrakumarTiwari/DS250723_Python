{
 "cells": [
  {
   "cell_type": "code",
   "execution_count": 4,
   "metadata": {},
   "outputs": [
    {
     "name": "stdout",
     "output_type": "stream",
     "text": [
      "Following is Breadth First Traversal (starting from vertex 2)\n",
      "2 0 3 1 "
     ]
    }
   ],
   "source": [
    "# 1. Breadth First Traversal for a Graph\n",
    "\n",
    "\n",
    "\n",
    "from collections import defaultdict\n",
    "\n",
    "\n",
    "\n",
    "class Graph:\n",
    "\tdef __init__(self):\n",
    "\t\tself.graph = defaultdict(list)\n",
    "\tdef addEdge(self, u, v):\n",
    "\t\tself.graph[u].append(v)\n",
    "\tdef BFS(self, s):\n",
    "\t\tvisited = [False] * (max(self.graph) + 1)\n",
    "\t\tqueue = []\n",
    "\t\tqueue.append(s)\n",
    "\t\tvisited[s] = True\n",
    "\n",
    "\t\twhile queue:\n",
    "\t\t\ts = queue.pop(0)\n",
    "\t\t\tprint(s, end=\" \")\n",
    "\t\t\tfor i in self.graph[s]:\n",
    "\t\t\t\tif visited[i] == False:\n",
    "\t\t\t\t\tqueue.append(i)\n",
    "\t\t\t\t\tvisited[i] = True\n",
    "\n",
    "\n",
    "if __name__ == '__main__':\n",
    "\tg = Graph()\n",
    "\tg.addEdge(0, 1)\n",
    "\tg.addEdge(0, 2)\n",
    "\tg.addEdge(1, 2)\n",
    "\tg.addEdge(2, 0)\n",
    "\tg.addEdge(2, 3)\n",
    "\tg.addEdge(3, 3)\n",
    "\n",
    "\tprint(\"Following is Breadth First Traversal\"\n",
    "\t\t\" (starting from vertex 2)\")\n",
    "\tg.BFS(2)\n"
   ]
  },
  {
   "cell_type": "code",
   "execution_count": 5,
   "metadata": {},
   "outputs": [
    {
     "name": "stdout",
     "output_type": "stream",
     "text": [
      "Following is Depth First Traversal (starting from vertex 2)\n",
      "2 0 1 3 "
     ]
    }
   ],
   "source": [
    "# 2. Depth First Traversal for a Graph\n",
    "\n",
    "from collections import defaultdict\n",
    "class Graph:\n",
    "\tdef __init__(self):\n",
    "\t\tself.graph = defaultdict(list)\n",
    "\tdef addEdge(self, u, v):\n",
    "\t\tself.graph[u].append(v)\n",
    "\tdef DFSUtil(self, v, visited):\n",
    "\t\tvisited.add(v)\n",
    "\t\tprint(v, end=' ')\n",
    "\t\tfor neighbour in self.graph[v]:\n",
    "\t\t\tif neighbour not in visited:\n",
    "\t\t\t\tself.DFSUtil(neighbour, visited)\n",
    "\tdef DFS(self, v):\n",
    "\t\tvisited = set()\n",
    "\t\tself.DFSUtil(v, visited)\n",
    "\n",
    "\n",
    "if __name__ == \"__main__\":\n",
    "\tg = Graph()\n",
    "\tg.addEdge(0, 1)\n",
    "\tg.addEdge(0, 2)\n",
    "\tg.addEdge(1, 2)\n",
    "\tg.addEdge(2, 0)\n",
    "\tg.addEdge(2, 3)\n",
    "\tg.addEdge(3, 3)\n",
    "\tprint(\"Following is Depth First Traversal (starting from vertex 2)\")\n",
    "\tg.DFS(2)\n",
    "\n"
   ]
  },
  {
   "cell_type": "code",
   "execution_count": 6,
   "metadata": {},
   "outputs": [
    {
     "name": "stdout",
     "output_type": "stream",
     "text": [
      "3\n"
     ]
    }
   ],
   "source": [
    "# 3. Count the number of nodes at given level in a tree using BFS\n",
    "\n",
    "\n",
    "\n",
    "from collections import deque\n",
    "adj = [[] for i in range(1001)]\n",
    "def addEdge(v, w):\n",
    "\tadj[v].append(w)\n",
    "\tadj[w].append(v)\n",
    "def BFS(s, l):\n",
    "\tV = 100\n",
    "\tvisited = [False] * V\n",
    "\tlevel = [0] * V\n",
    "\tfor i in range(V):\n",
    "\t\tvisited[i] = False\n",
    "\t\tlevel[i] = 0\n",
    "\tqueue = deque()\n",
    "\tvisited[s] = True\n",
    "\tqueue.append(s)\n",
    "\tlevel[s] = 0\n",
    "\twhile (len(queue) > 0):\n",
    "\t\ts = queue.popleft()\n",
    "\t\tfor i in adj[s]:\n",
    "\t\t\tif (not visited[i]):\n",
    "\t\t\t\tlevel[i] = level[s] + 1\n",
    "\t\t\t\tvisited[i] = True\n",
    "\t\t\t\tqueue.append(i)\n",
    "\tcount = 0\n",
    "\tfor i in range(V):\n",
    "\t\tif (level[i] == l):\n",
    "\t\t\tcount += 1\n",
    "\treturn count\n",
    "\n",
    "if __name__ == '__main__':\n",
    "\taddEdge(0, 1)\n",
    "\taddEdge(0, 2)\n",
    "\taddEdge(1, 3)\n",
    "\taddEdge(2, 4)\n",
    "\taddEdge(2, 5)\n",
    "\tlevel = 2\n",
    "\tprint(BFS(0, level))\n"
   ]
  },
  {
   "cell_type": "code",
   "execution_count": 7,
   "metadata": {},
   "outputs": [
    {
     "name": "stdout",
     "output_type": "stream",
     "text": [
      "2\n"
     ]
    }
   ],
   "source": [
    "# 4. Count number of trees in a forest\n",
    "\n",
    "\n",
    "def addEdge(adj, u, v):\n",
    "\tadj[u].append(v) \n",
    "\tadj[v].append(u)\n",
    "\n",
    "def DFSUtil(u, adj, visited):\n",
    "\tvisited[u] = True\n",
    "\tfor i in range(len(adj[u])):\n",
    "\t\tif (visited[adj[u][i]] == False):\n",
    "\t\t\tDFSUtil(adj[u][i], adj, visited)\n",
    "\n",
    "def countTrees(adj, V):\n",
    "\tvisited = [False] * V \n",
    "\tres = 0\n",
    "\tfor u in range(V):\n",
    "\t\tif (visited[u] == False):\n",
    "\t\t\tDFSUtil(u, adj, visited) \n",
    "\t\t\tres += 1\n",
    "\treturn res\n",
    "if __name__ == '__main__':\n",
    "\n",
    "\tV = 5\n",
    "\tadj = [[] for i in range(V)] \n",
    "\taddEdge(adj, 0, 1) \n",
    "\taddEdge(adj, 0, 2) \n",
    "\taddEdge(adj, 3, 4) \n",
    "\tprint(countTrees(adj, V))"
   ]
  },
  {
   "cell_type": "code",
   "execution_count": 8,
   "metadata": {},
   "outputs": [
    {
     "name": "stdout",
     "output_type": "stream",
     "text": [
      "Graph contains cycle\n"
     ]
    }
   ],
   "source": [
    "# 5. Detect Cycle in a Directed Graph\n",
    "\n",
    "\n",
    "from collections import defaultdict\n",
    "class Graph():\n",
    "\tdef __init__(self, vertices):\n",
    "\t\tself.graph = defaultdict(list)\n",
    "\t\tself.V = vertices\n",
    "\tdef addEdge(self, u, v):\n",
    "\t\tself.graph[u].append(v)\n",
    "\tdef isCyclicUtil(self, v, visited, recStack):\n",
    "\t\tvisited[v] = True\n",
    "\t\trecStack[v] = True\n",
    "\t\tfor neighbour in self.graph[v]:\n",
    "\t\t\tif visited[neighbour] == False:\n",
    "\t\t\t\tif self.isCyclicUtil(neighbour, visited, recStack) == True:\n",
    "\t\t\t\t\treturn True\n",
    "\t\t\telif recStack[neighbour] == True:\n",
    "\t\t\t\treturn True\n",
    "\t\trecStack[v] = False\n",
    "\t\treturn False\n",
    "\tdef isCyclic(self):\n",
    "\t\tvisited = [False] * (self.V + 1)\n",
    "\t\trecStack = [False] * (self.V + 1)\n",
    "\t\tfor node in range(self.V):\n",
    "\t\t\tif visited[node] == False:\n",
    "\t\t\t\tif self.isCyclicUtil(node, visited, recStack) == True:\n",
    "\t\t\t\t\treturn True\n",
    "\t\treturn False\n",
    "\n",
    "if __name__ == '__main__':\n",
    "\tg = Graph(4)\n",
    "\tg.addEdge(0, 1)\n",
    "\tg.addEdge(0, 2)\n",
    "\tg.addEdge(1, 2)\n",
    "\tg.addEdge(2, 0)\n",
    "\tg.addEdge(2, 3)\n",
    "\tg.addEdge(3, 3)\n",
    "\tif g.isCyclic() == 1:\n",
    "\t\tprint(\"Graph contains cycle\")\n",
    "\telse:\n",
    "\t\tprint(\"Graph doesn't contain cycle\")"
   ]
  },
  {
   "cell_type": "code",
   "execution_count": 9,
   "metadata": {},
   "outputs": [
    {
     "name": "stdout",
     "output_type": "stream",
     "text": [
      "0 0 1 0 \n",
      "1 0 0 0 \n",
      "0 0 0 1 \n",
      "0 1 0 0 \n"
     ]
    },
    {
     "data": {
      "text/plain": [
       "True"
      ]
     },
     "execution_count": 9,
     "metadata": {},
     "output_type": "execute_result"
    }
   ],
   "source": [
    "# Below question is a miscellaneous question\n",
    "\n",
    "# Implement n-Queen’s Problem\n",
    "\n",
    "global N\n",
    "N = 4\n",
    "\n",
    "def printSolution(board):\n",
    "\tfor i in range(N):\n",
    "\t\tfor j in range(N):\n",
    "\t\t\tprint (board[i][j],end=' ')\n",
    "\t\tprint()\n",
    "\n",
    "def isSafe(board, row, col):\n",
    "\tfor i in range(col):\n",
    "\t\tif board[row][i] == 1:\n",
    "\t\t\treturn False\n",
    "\tfor i, j in zip(range(row, -1, -1), range(col, -1, -1)):\n",
    "\t\tif board[i][j] == 1:\n",
    "\t\t\treturn False\n",
    "\tfor i, j in zip(range(row, N, 1), range(col, -1, -1)):\n",
    "\t\tif board[i][j] == 1:\n",
    "\t\t\treturn False\n",
    "\treturn True\n",
    "\n",
    "def solveNQUtil(board, col):\n",
    "\tif col >= N:\n",
    "\t\treturn True\n",
    "\tfor i in range(N):\n",
    "\n",
    "\t\tif isSafe(board, i, col):\n",
    "\t\t\tboard[i][col] = 1\n",
    "\t\t\tif solveNQUtil(board, col + 1) == True:\n",
    "\t\t\t\treturn True\n",
    "\t\t\tboard[i][col] = 0\n",
    "\treturn False\n",
    "\n",
    "def solveNQ():\n",
    "\tboard = [ [0, 0, 0, 0],\n",
    "\t\t\t[0, 0, 0, 0],\n",
    "\t\t\t[0, 0, 0, 0],\n",
    "\t\t\t[0, 0, 0, 0]\n",
    "\t\t\t]\n",
    "\n",
    "\tif solveNQUtil(board, 0) == False:\n",
    "\t\tprint (\"Solution does not exist\")\n",
    "\t\treturn False\n",
    "\n",
    "\tprintSolution(board)\n",
    "\treturn True\n",
    "solveNQ()"
   ]
  },
  {
   "cell_type": "code",
   "execution_count": null,
   "metadata": {},
   "outputs": [],
   "source": []
  }
 ],
 "metadata": {
  "kernelspec": {
   "display_name": "base",
   "language": "python",
   "name": "python3"
  },
  "language_info": {
   "codemirror_mode": {
    "name": "ipython",
    "version": 3
   },
   "file_extension": ".py",
   "mimetype": "text/x-python",
   "name": "python",
   "nbconvert_exporter": "python",
   "pygments_lexer": "ipython3",
   "version": "3.11.4"
  }
 },
 "nbformat": 4,
 "nbformat_minor": 2
}
